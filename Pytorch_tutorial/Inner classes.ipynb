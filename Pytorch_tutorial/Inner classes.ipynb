{
 "cells": [
  {
   "cell_type": "code",
   "execution_count": 4,
   "metadata": {},
   "outputs": [
    {
     "name": "stdout",
     "output_type": "stream",
     "text": [
      "Guido\n",
      "talking...\n",
      "thinking...\n"
     ]
    }
   ],
   "source": [
    "class Human:\n",
    "   def __init__(self):\n",
    "    self.name = 'Guido'\n",
    "    self.head = self.Head()\n",
    "    self.brain = self.Brain()\n",
    "   class Head:\n",
    "    def talk(self):\n",
    "      return 'talking...'\n",
    "   class Brain:\n",
    "    def think(self):\n",
    "      return 'thinking...'\n",
    "guido = Human()\n",
    "print (guido.name)\n",
    "print (guido.head.talk())\n",
    "print (guido.brain.think())"
   ]
  }
 ],
 "metadata": {
  "kernelspec": {
   "display_name": "Python 3",
   "language": "python",
   "name": "python3"
  },
  "language_info": {
   "codemirror_mode": {
    "name": "ipython",
    "version": 3
   },
   "file_extension": ".py",
   "mimetype": "text/x-python",
   "name": "python",
   "nbconvert_exporter": "python",
   "pygments_lexer": "ipython3",
   "version": "3.7.6"
  }
 },
 "nbformat": 4,
 "nbformat_minor": 4
}
