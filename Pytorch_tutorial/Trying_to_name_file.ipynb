{
 "cells": [
  {
   "cell_type": "code",
   "execution_count": 1,
   "metadata": {},
   "outputs": [
    {
     "name": "stdout",
     "output_type": "stream",
     "text": [
      "2\n",
      "2\n",
      "lr\n",
      "[0.01, 0.001]\n",
      "lr\n",
      "[0.01, 0.001]\n",
      "lr=0.01_0.001_lr=0.01_0.001_\n"
     ]
    }
   ],
   "source": [
    "from collections import OrderedDict\n",
    "from collections import namedtuple\n",
    "from itertools import product\n",
    "\n",
    "params = OrderedDict(\n",
    "    lr = [.01, .001]\n",
    "    ,batch_size = [1000,10000]\n",
    ")\n",
    "\n",
    "Run = namedtuple('Run',params.keys())#die ordereddicttionary heeft keys and values. dit heb je wel eens eerder gezien I guess.\n",
    "                                             #blijkbaar maakt ie een mooie string als je die keys zo oproept. test dat even.\n",
    "\n",
    "print(len(params.keys()))\n",
    "print(len(params.values()))\n",
    "\n",
    "items_hier = list(params.items()) #keys+values\n",
    "num_k=0 #amount of keys present\n",
    "comment = '' #the string for the filename\n",
    "for k in params.keys():\n",
    "    print(items_hier[num_k][0])\n",
    "    print(items_hier[num_k][1])\n",
    "    comment += f'{items_hier[num_k][0]}='\n",
    "    for v in items_hier[num_k][1]:\n",
    "        comment +=(f'{v}_')\n",
    "    comment[:-1]\n",
    "    num_k+=1 #for indexing next loop to get next keys/values in list\n",
    "\n",
    "print(comment)\n",
    "\n",
    "\n",
    "\n",
    "\n",
    "\n",
    "\n",
    "\n",
    "#comment_l.append(comment)\n",
    "#comment_l = list() #list with the different names\n",
    "#print(comment_l)\n",
    "# comment_fin = ''\n",
    "# for v in comment_l:\n",
    "#     comment_fin+=v\n",
    "    \n",
    "# print(comment_fin)\n",
    "# keys_hier = list(params.keys())\n",
    "# print(list(params.keys())[0])\n",
    "# lr_hier=list(params.values())[0]\n",
    "# batch_size_hier =list(params.values())[1]\n",
    "# print(list(params.values())[0])\n",
    "# print(Run)\n",
    "\n",
    "# dezerun = Run(lr=lr_hier,batch_size=batch_size_hier)\n",
    "# print(dezerun)\n",
    "\n",
    "# for k,v in (params.values()): #dit doet dus iets dat ie per value combo nieuwe iteratie doet\n",
    "#     print(k)\n",
    "#     print(v)\n",
    "#     runs.append(Run(*v))\n",
    "#     #Run.lr=k\n",
    "#     #Run.batch_size=v\n",
    "#     ding=k\n",
    "# print(Run)\n",
    "    \n",
    "#print(params.values().items())\n",
    "#Run.lr=v"
   ]
  },
  {
   "cell_type": "code",
   "execution_count": 3,
   "metadata": {},
   "outputs": [],
   "source": [
    "class NameFile():\n",
    "    @staticmethod#static? iets met dat je m kan callen using the class itself. don't need an instance of the class, to call the method. i guess dat je m dus niet eerst hoeft te initieren alszijnde type x? \n",
    "    def nameit(params): #ga er dus vanuit dat je alleen keys and values hebt, dus alleen 0 en 1 voor die ene index. wellicht gaat dit dus ooit mis, makkelijk te herstellen\n",
    "\n",
    "        items_hier = list(params.items()) #keys+values\n",
    "        num_k=0 #amount of keys present\n",
    "        comment = '' #the string for the filename\n",
    "        \n",
    "        #make the comment by looping over keys and values\n",
    "        for k in params.keys():\n",
    "            comment += f'{items_hier[num_k][0]}=' #add the key\n",
    "            for v in items_hier[num_k][1]:\n",
    "                comment +=(f'{v}_') #add the values\n",
    "            num_k+=1 #for indexing next loop to get next keys/values in list\n",
    "        comment+='results'\n",
    "        return comment"
   ]
  },
  {
   "cell_type": "code",
   "execution_count": 4,
   "metadata": {},
   "outputs": [
    {
     "data": {
      "text/plain": [
       "'lr=0.01_0.001_batch_size=1000_10000_results'"
      ]
     },
     "execution_count": 4,
     "metadata": {},
     "output_type": "execute_result"
    }
   ],
   "source": [
    "NameFile.nameit(params)"
   ]
  }
 ],
 "metadata": {
  "kernelspec": {
   "display_name": "Python 3",
   "language": "python",
   "name": "python3"
  },
  "language_info": {
   "codemirror_mode": {
    "name": "ipython",
    "version": 3
   },
   "file_extension": ".py",
   "mimetype": "text/x-python",
   "name": "python",
   "nbconvert_exporter": "python",
   "pygments_lexer": "ipython3",
   "version": "3.7.6"
  }
 },
 "nbformat": 4,
 "nbformat_minor": 4
}
