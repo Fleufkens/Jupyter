{
 "cells": [
  {
   "cell_type": "code",
   "execution_count": 6,
   "metadata": {},
   "outputs": [
    {
     "name": "stdout",
     "output_type": "stream",
     "text": [
      "1.5.1\n",
      "0.6.1\n",
      "torch.Size([10, 1, 28, 28])\n",
      "torch.Size([10])\n",
      "tensor([[0.1089, 0.0845, 0.0884, 0.1097, 0.1054, 0.0850, 0.0999, 0.0957, 0.1105, 0.1120],\n",
      "        [0.1097, 0.0860, 0.0881, 0.1099, 0.1055, 0.0847, 0.0985, 0.0964, 0.1098, 0.1113],\n",
      "        [0.1085, 0.0870, 0.0903, 0.1091, 0.1036, 0.0859, 0.0989, 0.0960, 0.1095, 0.1113],\n",
      "        [0.1084, 0.0869, 0.0894, 0.1100, 0.1044, 0.0852, 0.0993, 0.0961, 0.1092, 0.1111],\n",
      "        [0.1106, 0.0862, 0.0888, 0.1097, 0.1046, 0.0850, 0.0993, 0.0961, 0.1088, 0.1109],\n",
      "        [0.1088, 0.0860, 0.0880, 0.1107, 0.1056, 0.0849, 0.0986, 0.0957, 0.1100, 0.1117],\n",
      "        [0.1097, 0.0858, 0.0901, 0.1085, 0.1050, 0.0849, 0.0986, 0.0959, 0.1110, 0.1106],\n",
      "        [0.1083, 0.0863, 0.0872, 0.1119, 0.1065, 0.0845, 0.0983, 0.0950, 0.1105, 0.1115],\n",
      "        [0.1089, 0.0867, 0.0901, 0.1085, 0.1038, 0.0856, 0.1000, 0.0954, 0.1089, 0.1120],\n",
      "        [0.1086, 0.0859, 0.0885, 0.1092, 0.1048, 0.0857, 0.1005, 0.0949, 0.1094, 0.1125]])\n",
      "tensor([9, 9, 9, 9, 9, 9, 8, 3, 9, 9])\n"
     ]
    },
    {
     "data": {
      "text/plain": [
       "tensor(1)"
      ]
     },
     "execution_count": 6,
     "metadata": {},
     "output_type": "execute_result"
    }
   ],
   "source": [
    "#imports\n",
    "import torch\n",
    "import torchvision\n",
    "import torchvision.transforms as transforms\n",
    "import torch.nn as nn\n",
    "import torch.nn.functional as F\n",
    "\n",
    "torch.set_printoptions(linewidth=120)\n",
    "torch.set_grad_enabled(False)\n",
    "\n",
    "print(torch.__version__)\n",
    "print(torchvision.__version__)\n",
    "\n",
    "train_set = torchvision.datasets.FashionMNIST(\n",
    "    root='./data/FashionMNIST'\n",
    "    ,train=True\n",
    "    ,download=True\n",
    "    ,transform=transforms.Compose([transforms.ToTensor()\n",
    "    ])\n",
    ")\n",
    "\n",
    "#class definition\n",
    "class Network(nn.Module):\n",
    "    def __init__(self):\n",
    "        super().__init__()\n",
    "        self.conv1 = nn.Conv2d(in_channels=1,out_channels=6,kernel_size=5)\n",
    "        self.conv2 = nn.Conv2d(in_channels=6,out_channels=12,kernel_size=5)\n",
    "\n",
    "        self.fc1 = nn.Linear(in_features=12*4*4,out_features=120)\n",
    "        self.fc2 = nn.Linear(in_features=120,out_features=60)\n",
    "        self.out = nn.Linear(in_features=60,out_features=10)\n",
    "\n",
    "    def forward(self,t):\n",
    "        #(1) input layer\n",
    "        t=t\n",
    "\n",
    "         #(2) hidden conv layer\n",
    "        t = self.conv1(t)\n",
    "        t=F.relu(t)\n",
    "        t=F.max_pool2d(t,kernel_size=2,stride=2)\n",
    "\n",
    "        #(3) hidden conv layer\n",
    "        t = self.conv2(t)\n",
    "        t=F.relu(t)\n",
    "        t=F.max_pool2d(t,kernel_size=2,stride=2)\n",
    "\n",
    "        #(4) hidden linear layer\n",
    "        t = t.reshape(-1,12*4*4)\n",
    "        t=self.fc1(t)\n",
    "        t=F.relu(t)\n",
    "\n",
    "        # (5) hidden linear layer\n",
    "        t = self.fc2(t)\n",
    "        t = F.relu(t)\n",
    "\n",
    "        # (6) output layer\n",
    "        t = self.out(t)\n",
    "        t = F.softmax(t,dim=1)\n",
    "\n",
    "        return t\n",
    "\n",
    "#computations\n",
    "batch_sz=10\n",
    "network = Network()\n",
    "data_loader = torch.utils.data.DataLoader(train_set,batch_size=batch_sz)\n",
    "\n",
    "batch = next(iter(data_loader))\n",
    "images,labels = batch\n",
    "\n",
    "print(images.shape)\n",
    "print(labels.shape)\n",
    "\n",
    "preds=network(images)\n",
    "print(preds)\n",
    "\n",
    "print(preds.argmax(dim=1))\n",
    "\n",
    "preds.argmax(dim=1).eq(labels).sum()"
   ]
  }
 ],
 "metadata": {
  "kernelspec": {
   "display_name": "Python 3",
   "language": "python",
   "name": "python3"
  },
  "language_info": {
   "codemirror_mode": {
    "name": "ipython",
    "version": 3
   },
   "file_extension": ".py",
   "mimetype": "text/x-python",
   "name": "python",
   "nbconvert_exporter": "python",
   "pygments_lexer": "ipython3",
   "version": "3.7.6"
  }
 },
 "nbformat": 4,
 "nbformat_minor": 4
}
